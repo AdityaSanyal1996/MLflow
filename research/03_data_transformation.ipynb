{
 "cells": [
  {
   "cell_type": "markdown",
   "metadata": {},
   "source": [
    "### change working directory to root"
   ]
  },
  {
   "cell_type": "code",
   "execution_count": 1,
   "metadata": {},
   "outputs": [],
   "source": [
    "import os"
   ]
  },
  {
   "cell_type": "code",
   "execution_count": 2,
   "metadata": {},
   "outputs": [
    {
     "data": {
      "text/plain": [
       "'/home/adityasanyal1996/MLflow/research'"
      ]
     },
     "execution_count": 2,
     "metadata": {},
     "output_type": "execute_result"
    }
   ],
   "source": [
    "%pwd"
   ]
  },
  {
   "cell_type": "code",
   "execution_count": 3,
   "metadata": {},
   "outputs": [],
   "source": [
    "os.chdir(\"../\")"
   ]
  },
  {
   "cell_type": "code",
   "execution_count": 4,
   "metadata": {},
   "outputs": [
    {
     "data": {
      "text/plain": [
       "'/home/adityasanyal1996/MLflow'"
      ]
     },
     "execution_count": 4,
     "metadata": {},
     "output_type": "execute_result"
    }
   ],
   "source": [
    "%pwd"
   ]
  },
  {
   "cell_type": "markdown",
   "metadata": {},
   "source": [
    "### Entity"
   ]
  },
  {
   "cell_type": "code",
   "execution_count": 5,
   "metadata": {},
   "outputs": [],
   "source": [
    "from dataclasses import dataclass\n",
    "from pathlib import Path\n",
    "\n",
    "@dataclass(frozen=True)\n",
    "class DataTransformationConfig:\n",
    "    root_dir : Path\n",
    "    data_path : Path"
   ]
  },
  {
   "cell_type": "markdown",
   "metadata": {},
   "source": [
    "### configuration manager in src"
   ]
  },
  {
   "cell_type": "code",
   "execution_count": 6,
   "metadata": {},
   "outputs": [],
   "source": [
    "from mlProject.constants import *\n",
    "from mlProject.utils.common import create_directories, read_yaml \n"
   ]
  },
  {
   "cell_type": "code",
   "execution_count": 7,
   "metadata": {},
   "outputs": [],
   "source": [
    "class ConfigurationManager:\n",
    "    def __init__(self, \n",
    "                 config_filepath = CONFIG_FILE_PATH,\n",
    "                 schema_filepath = SCHEMA_FILE_PATH,\n",
    "                 params_filepath = PARAMS_FILE_PATH):\n",
    "        self.config = read_yaml(config_filepath)\n",
    "        self.schema = read_yaml(schema_filepath)\n",
    "        self.params = read_yaml(params_filepath)\n",
    "\n",
    "        create_directories([self.config.artifacts_root])\n",
    "    \n",
    "    def get_data_transformation_config(self) -> DataTransformationConfig:\n",
    "        config = self.config.data_transformation\n",
    "        create_directories([config.root_dir])\n",
    "\n",
    "        data_transformation_config = DataTransformationConfig(\n",
    "            root_dir = config.root_dir,\n",
    "            data_path = config.data_path\n",
    "        )\n",
    "        return data_transformation_config"
   ]
  },
  {
   "cell_type": "markdown",
   "metadata": {},
   "source": [
    "### Components(data transformation)"
   ]
  },
  {
   "cell_type": "code",
   "execution_count": 8,
   "metadata": {},
   "outputs": [],
   "source": [
    "import os\n",
    "from mlProject import logger\n",
    "from sklearn.model_selection import train_test_split\n",
    "import pandas as pd"
   ]
  },
  {
   "cell_type": "code",
   "execution_count": 9,
   "metadata": {},
   "outputs": [],
   "source": [
    "class DataTransformation:\n",
    "    def __init__(self, config: DataTransformationConfig):\n",
    "        self.config = config\n",
    "\n",
    "    \n",
    "    ## Note: You can add different data transformation techniques such as Scaler, PCA and all\n",
    "    #You can perform all kinds of EDA in ML cycle here before passing this data to the model\n",
    "\n",
    "    # I am only adding train_test_spliting cz this data is already cleaned up\n",
    "\n",
    "\n",
    "    def train_test_spliting(self):\n",
    "        data = pd.read_csv(self.config.data_path)\n",
    "\n",
    "        # Split the data into training and test sets. (0.75, 0.25) split.\n",
    "        train, test = train_test_split(data)\n",
    "\n",
    "        train.to_csv(os.path.join(self.config.root_dir, \"train.csv\"),index = False)\n",
    "        test.to_csv(os.path.join(self.config.root_dir, \"test.csv\"),index = False)\n",
    "\n",
    "        logger.info(\"Splited data into training and test sets\")\n",
    "        logger.info(train.shape)\n",
    "        logger.info(test.shape)\n",
    "\n",
    "        print(train.shape)\n",
    "        print(test.shape)\n",
    "        "
   ]
  },
  {
   "cell_type": "markdown",
   "metadata": {},
   "source": [
    "### Pipeline"
   ]
  },
  {
   "cell_type": "code",
   "execution_count": 10,
   "metadata": {},
   "outputs": [
    {
     "name": "stdout",
     "output_type": "stream",
     "text": [
      "[2024-06-19 13:26:26,916: INFO: common: yaml file: config/config.yaml loaded successfully]\n",
      "[2024-06-19 13:26:26,920: INFO: common: yaml file: schema.yaml loaded successfully]\n",
      "[2024-06-19 13:26:26,921: INFO: common: yaml file: params.yaml loaded successfully]\n",
      "[2024-06-19 13:26:26,924: INFO: common: created directory at: artifacts]\n",
      "[2024-06-19 13:26:26,925: INFO: common: created directory at: artifacts/data_transformation]\n",
      "[2024-06-19 13:26:26,961: INFO: 741865018: Splited data into training and test sets]\n",
      "[2024-06-19 13:26:26,961: INFO: 741865018: (1199, 12)]\n",
      "[2024-06-19 13:26:26,964: INFO: 741865018: (400, 12)]\n",
      "(1199, 12)\n",
      "(400, 12)\n"
     ]
    }
   ],
   "source": [
    "try:\n",
    "    config = ConfigurationManager()\n",
    "    data_transformation_config = config.get_data_transformation_config()\n",
    "    data_transformation = DataTransformation(config = data_transformation_config)\n",
    "    data_transformation.train_test_spliting()\n",
    "except Exception as e:\n",
    "    raise e"
   ]
  },
  {
   "cell_type": "code",
   "execution_count": 20,
   "metadata": {},
   "outputs": [
    {
     "name": "stdout",
     "output_type": "stream",
     "text": [
      "[2024-06-19 13:35:59,126: INFO: common: yaml file: config/config.yaml loaded successfully]\n",
      "[2024-06-19 13:35:59,133: INFO: common: yaml file: schema.yaml loaded successfully]\n",
      "[2024-06-19 13:35:59,135: INFO: common: yaml file: params.yaml loaded successfully]\n",
      "[2024-06-19 13:35:59,137: INFO: common: created directory at: artifacts]\n",
      "[2024-06-19 13:35:59,139: INFO: common: created directory at: artifacts/data_transformation]\n",
      "[2024-06-19 13:35:59,175: INFO: 741865018: Splited data into training and test sets]\n",
      "[2024-06-19 13:35:59,176: INFO: 741865018: (1199, 12)]\n",
      "[2024-06-19 13:35:59,177: INFO: 741865018: (400, 12)]\n",
      "(1199, 12)\n",
      "(400, 12)\n"
     ]
    }
   ],
   "source": [
    "try:\n",
    "    with open(Path(\"artifacts/data_validation/status.txt\"), \"r\") as f:\n",
    "        status_type = f.readline().split(\" \")[-1]\n",
    "        status_column = f.readline().split(\" \")[-1]\n",
    "\n",
    "        if (status_type==\"True\\n\" and status_column == \"True\"):\n",
    "            config = ConfigurationManager()\n",
    "            data_transformation_config = config.get_data_transformation_config()\n",
    "            data_transformation = DataTransformation(config=data_transformation_config)\n",
    "            data_transformation.train_test_spliting()\n",
    "\n",
    "        else:\n",
    "            raise Exception(\"You data schema is not valid\")\n",
    "\n",
    "except Exception as e:\n",
    "    print(e)"
   ]
  },
  {
   "cell_type": "code",
   "execution_count": 18,
   "metadata": {},
   "outputs": [
    {
     "name": "stdout",
     "output_type": "stream",
     "text": [
      "no the aren't\n",
      "True\n",
      "\n",
      "True\n"
     ]
    }
   ],
   "source": [
    "with open(Path(\"artifacts/data_validation/status.txt\"), \"r\") as f:\n",
    "        status_type = f.readline().split(\" \")[-1]\n",
    "\n",
    "        status_column = f.readline().split(\" \")[-1]\n",
    "if (status_type==\"True\" and status_column == \"\\nTrue\"):\n",
    "        print(\"both are true\")\n",
    "else:\n",
    "        print(\"no the aren't\")\n",
    "\n",
    "print(status_type)\n",
    "print(status_column)"
   ]
  },
  {
   "cell_type": "code",
   "execution_count": null,
   "metadata": {},
   "outputs": [],
   "source": []
  }
 ],
 "metadata": {
  "kernelspec": {
   "display_name": "Python 3",
   "language": "python",
   "name": "python3"
  },
  "language_info": {
   "codemirror_mode": {
    "name": "ipython",
    "version": 3
   },
   "file_extension": ".py",
   "mimetype": "text/x-python",
   "name": "python",
   "nbconvert_exporter": "python",
   "pygments_lexer": "ipython3",
   "version": "3.10.12"
  }
 },
 "nbformat": 4,
 "nbformat_minor": 2
}
